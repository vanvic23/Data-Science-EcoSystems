{
 "cells": [
  {
   "cell_type": "markdown",
   "id": "79094eee-5a22-4958-8943-660027bac1b7",
   "metadata": {},
   "source": [
    "Data Science Tools and Ecosystems\n"
   ]
  },
  {
   "cell_type": "markdown",
   "id": "dedfb7ed-9dd2-40cd-8ae1-d7dc934c8eec",
   "metadata": {},
   "source": [
    "Author: Vanessa Summer"
   ]
  },
  {
   "cell_type": "markdown",
   "id": "857e85b7-b4fd-483b-a269-fed7949d5c27",
   "metadata": {},
   "source": [
    "\n",
    "In this notebook, data science tools and ecosystems are summarized."
   ]
  },
  {
   "cell_type": "markdown",
   "id": "b6a46e15-6111-4ab1-8e25-bffe7c8089cf",
   "metadata": {},
   "source": [
    "Objectives:\n",
    "* List popular language for data science\n",
    "* List common libraries for data scientists\n",
    "* List data Science tools\n",
    "* List examples of simple arithmetic expressions\n",
    "    "
   ]
  },
  {
   "cell_type": "code",
   "execution_count": null,
   "id": "cf09a8c5-78e5-4dbb-90ff-1c6f5ee1d4be",
   "metadata": {},
   "outputs": [],
   "source": [
    "Some of the popular Languages that Data Scientists Use are:\n",
    "    1. Python\n",
    "    2. Java\n",
    "    3. R\n",
    "    4. Julia"
   ]
  },
  {
   "cell_type": "code",
   "execution_count": null,
   "id": "33fd57a3-0b42-4115-a172-4e54ab73b5de",
   "metadata": {},
   "outputs": [],
   "source": [
    "Some of the Common Libraries used by Data Scientists Include:\n",
    "    1. ApacheSpark\n",
    "    2. Matplotlib\n",
    "    3. NumPy"
   ]
  },
  {
   "cell_type": "code",
   "execution_count": null,
   "id": "c5619534-a963-4a9c-a9ff-5b860bae5ded",
   "metadata": {},
   "outputs": [],
   "source": [
    "|Data Science Tools|\n",
    "|:----------------:|\n",
    "|R Studio|\n",
    "|Tensor Flow|\n",
    "|ApacheSpark|"
   ]
  },
  {
   "cell_type": "markdown",
   "id": "90f7837b-7c0b-454b-a9cb-0d8d939e425d",
   "metadata": {},
   "source": [
    "Below are a few examples of evaluating arithmetic expressions in Python"
   ]
  },
  {
   "cell_type": "markdown",
   "id": "aee9d5fd-bafc-4be4-9f90-658ca16d0408",
   "metadata": {},
   "source": [
    "This is a simple arithmatic expression to multiply then add integers. "
   ]
  },
  {
   "cell_type": "code",
   "execution_count": 7,
   "id": "ffd1db2f-8f8a-46fe-8311-ef72fcabb080",
   "metadata": {},
   "outputs": [
    {
     "data": {
      "text/plain": [
       "17"
      ]
     },
     "execution_count": 7,
     "metadata": {},
     "output_type": "execute_result"
    }
   ],
   "source": [
    "(3*4) + 5"
   ]
  },
  {
   "cell_type": "code",
   "execution_count": 5,
   "id": "cca2e7ab-c805-4542-9198-2255afda256d",
   "metadata": {},
   "outputs": [
    {
     "name": "stdin",
     "output_type": "stream",
     "text": [
      "enter time in minutes 200\n"
     ]
    },
    {
     "name": "stdout",
     "output_type": "stream",
     "text": [
      "Hours= 3\n",
      "Min= 20\n"
     ]
    }
   ],
   "source": [
    "min=int(input(\"enter time in minutes\"))\n",
    "\n",
    "h=min//60\n",
    "\n",
    "m=min%60\n",
    "\n",
    "print(\"Hours=\",h)\n",
    "\n",
    "print(\"Min=\",m)\n"
   ]
  },
  {
   "cell_type": "code",
   "execution_count": null,
   "id": "00ff1f11-f897-4a8d-9383-9a98e2817cb0",
   "metadata": {},
   "outputs": [],
   "source": []
  }
 ],
 "metadata": {
  "kernelspec": {
   "display_name": "anaconda-2022.05-py39",
   "language": "python",
   "name": "conda-env-anaconda-2022.05-py39-py"
  },
  "language_info": {
   "codemirror_mode": {
    "name": "ipython",
    "version": 3
   },
   "file_extension": ".py",
   "mimetype": "text/x-python",
   "name": "python",
   "nbconvert_exporter": "python",
   "pygments_lexer": "ipython3",
   "version": "3.9.12"
  }
 },
 "nbformat": 4,
 "nbformat_minor": 5
}
